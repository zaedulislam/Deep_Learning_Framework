{
 "cells": [
  {
   "cell_type": "code",
   "execution_count": 23,
   "metadata": {},
   "outputs": [
    {
     "name": "stdout",
     "output_type": "stream",
     "text": [
      "1.7.0+cu110\n"
     ]
    }
   ],
   "source": [
    "import torch\n",
    "from torch import nn\n",
    "print(torch.__version__)"
   ]
  },
  {
   "cell_type": "markdown",
   "metadata": {},
   "source": [
    "# Linear Layers"
   ]
  },
  {
   "cell_type": "markdown",
   "metadata": {},
   "source": [
    "## LINEAR"
   ]
  },
  {
   "cell_type": "code",
   "execution_count": 31,
   "metadata": {},
   "outputs": [
    {
     "name": "stdout",
     "output_type": "stream",
     "text": [
      "X: tensor([[-0.4776,  0.3260],\n",
      "        [ 0.2463, -1.0780]])\n",
      "Z: tensor([[-0.1782,  0.3643, -0.1477],\n",
      "        [-0.0250, -0.4989, -0.0367]], grad_fn=<MmBackward>)\n",
      "Z.shape: torch.Size([2, 3])\n"
     ]
    }
   ],
   "source": [
    "linerLayer = nn.Linear(in_features=2, out_features=3, bias=False)\n",
    "X = torch.randn(2, 2)\n",
    "Z = linerLayer(X)\n",
    "\n",
    "print(\"X:\", X)\n",
    "print(\"Z:\", Z)\n",
    "print(\"Z.shape:\", Z.shape)"
   ]
  }
 ],
 "metadata": {
  "interpreter": {
   "hash": "179537a2ef8ea6e8b8b88b69ab6d15a68fd2f9dd4f00233cafabf0c9117c382f"
  },
  "kernelspec": {
   "display_name": "Python 3.8.2 ('gnn')",
   "language": "python",
   "name": "python3"
  },
  "language_info": {
   "codemirror_mode": {
    "name": "ipython",
    "version": 3
   },
   "file_extension": ".py",
   "mimetype": "text/x-python",
   "name": "python",
   "nbconvert_exporter": "python",
   "pygments_lexer": "ipython3",
   "version": "3.8.2"
  },
  "orig_nbformat": 4
 },
 "nbformat": 4,
 "nbformat_minor": 2
}
