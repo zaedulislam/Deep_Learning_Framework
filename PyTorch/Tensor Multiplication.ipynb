{
 "cells": [
  {
   "cell_type": "code",
   "execution_count": 1,
   "metadata": {},
   "outputs": [
    {
     "name": "stdout",
     "output_type": "stream",
     "text": [
      "1.7.0+cu110\n"
     ]
    }
   ],
   "source": [
    "import torch\n",
    "print(torch.__version__)"
   ]
  },
  {
   "cell_type": "markdown",
   "metadata": {},
   "source": [
    "# Hadamard Product / Element-wise Multiplication"
   ]
  },
  {
   "cell_type": "code",
   "execution_count": 4,
   "metadata": {},
   "outputs": [
    {
     "name": "stdout",
     "output_type": "stream",
     "text": [
      "A: tensor([[2, 3],\n",
      "        [3, 7]])\n",
      "B: tensor([[1, 4],\n",
      "        [1, 2]])\n",
      "A * B: tensor([[ 2, 12],\n",
      "        [ 3, 14]])\n",
      "torch.mul(A, B): tensor([[ 2, 12],\n",
      "        [ 3, 14]])\n",
      "A.mul(B): tensor([[ 2, 12],\n",
      "        [ 3, 14]])\n"
     ]
    }
   ],
   "source": [
    "A = torch.randint(1, 8, (2, 2))\n",
    "B = torch.randint(1, 6, (2, 2))\n",
    "\n",
    "print(\"A:\", A)\n",
    "print(\"B:\", B)\n",
    "\n",
    "print(\"A * B:\", A * B)\n",
    "print(\"torch.mul(A, B):\", torch.mul(A, B))\n",
    "print(\"A.mul(B):\", A.mul(B))"
   ]
  },
  {
   "cell_type": "markdown",
   "metadata": {},
   "source": [
    "# Matrix Multiplication"
   ]
  },
  {
   "cell_type": "code",
   "execution_count": 7,
   "metadata": {},
   "outputs": [
    {
     "name": "stdout",
     "output_type": "stream",
     "text": [
      "A: tensor([[[1, 7],\n",
      "         [3, 5]],\n",
      "\n",
      "        [[6, 6],\n",
      "         [2, 4]]])\n",
      "B: tensor([[1, 5, 2],\n",
      "        [5, 4, 2]])\n",
      "torch.matmul(A, B): tensor([[[36, 33, 16],\n",
      "         [28, 35, 16]],\n",
      "\n",
      "        [[36, 54, 24],\n",
      "         [22, 26, 12]]])\n"
     ]
    }
   ],
   "source": [
    "A = torch.randint(1, 8, (2, 2, 2))\n",
    "B = torch.randint(1, 6, (2, 3))\n",
    "\n",
    "print(\"A:\", A)\n",
    "print(\"B:\", B)\n",
    "\n",
    "print(\"torch.matmul(A, B):\", torch.matmul(A, B))"
   ]
  },
  {
   "cell_type": "code",
   "execution_count": 8,
   "metadata": {},
   "outputs": [
    {
     "name": "stdout",
     "output_type": "stream",
     "text": [
      "torch.matmul(A, B): torch.Size([2, 2, 3])\n"
     ]
    }
   ],
   "source": [
    "print(\"torch.matmul(A, B):\", torch.matmul(A, B).shape)"
   ]
  }
 ],
 "metadata": {
  "interpreter": {
   "hash": "d82fd70d9fcd9952b45ce4a4f89c0f5db5fb42e799dfbf03dbd26362f9b624e9"
  },
  "kernelspec": {
   "display_name": "Python 3.8.2 64-bit ('gnn')",
   "language": "python",
   "name": "python3"
  },
  "language_info": {
   "codemirror_mode": {
    "name": "ipython",
    "version": 3
   },
   "file_extension": ".py",
   "mimetype": "text/x-python",
   "name": "python",
   "nbconvert_exporter": "python",
   "pygments_lexer": "ipython3",
   "version": "3.8.2"
  },
  "orig_nbformat": 4
 },
 "nbformat": 4,
 "nbformat_minor": 2
}
