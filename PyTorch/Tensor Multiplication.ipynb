{
 "cells": [
  {
   "cell_type": "code",
   "execution_count": 2,
   "metadata": {},
   "outputs": [
    {
     "name": "stdout",
     "output_type": "stream",
     "text": [
      "1.11.0\n"
     ]
    }
   ],
   "source": [
    "import torch\n",
    "print(torch.__version__)"
   ]
  },
  {
   "cell_type": "markdown",
   "metadata": {},
   "source": [
    "# Hadamard Product / Element-wise Multiplication"
   ]
  },
  {
   "cell_type": "code",
   "execution_count": 2,
   "metadata": {},
   "outputs": [
    {
     "name": "stdout",
     "output_type": "stream",
     "text": [
      "A: tensor([[4, 1],\n",
      "        [4, 1]])\n",
      "B: tensor([[5, 5],\n",
      "        [1, 4]])\n",
      "A * B: tensor([[20,  5],\n",
      "        [ 4,  4]])\n",
      "torch.mul(A, B): tensor([[20,  5],\n",
      "        [ 4,  4]])\n",
      "A.mul(B): tensor([[20,  5],\n",
      "        [ 4,  4]])\n"
     ]
    }
   ],
   "source": [
    "A = torch.randint(1, 8, (2, 2))\n",
    "B = torch.randint(1, 6, (2, 2))\n",
    "\n",
    "print(\"A:\", A)\n",
    "print(\"B:\", B)\n",
    "\n",
    "print(\"A * B:\", A * B)\n",
    "print(\"torch.mul(A, B):\", torch.mul(A, B))\n",
    "print(\"A.mul(B):\", A.mul(B))"
   ]
  },
  {
   "attachments": {},
   "cell_type": "markdown",
   "metadata": {},
   "source": [
    "### Element-wise Multiplication between a 3D and 2D Matrix\n",
    "Let's say, we have a 3D matrix, A(a=3, b=2, c=2), and a 2D matrix, B(b=2, c=2). If we perform element-wise multiplication between A and B, the last 2 dimensions of B will be multiplied by the corresponding last 2 dimensions of A. Needless to say, the last 2 dimensions of A and B have to equal."
   ]
  },
  {
   "cell_type": "code",
   "execution_count": 9,
   "metadata": {},
   "outputs": [
    {
     "name": "stdout",
     "output_type": "stream",
     "text": [
      "A: tensor([[[1, 3],\n",
      "         [7, 7]],\n",
      "\n",
      "        [[6, 4],\n",
      "         [6, 6]],\n",
      "\n",
      "        [[6, 2],\n",
      "         [6, 1]]])\n",
      "B: tensor([[3, 3],\n",
      "        [3, 4]])\n",
      "A * B: tensor([[[ 3,  9],\n",
      "         [21, 28]],\n",
      "\n",
      "        [[18, 12],\n",
      "         [18, 24]],\n",
      "\n",
      "        [[18,  6],\n",
      "         [18,  4]]])\n"
     ]
    }
   ],
   "source": [
    "A = torch.randint(1, 8, (3, 2, 2))\n",
    "B = torch.randint(1, 6, (2, 2))\n",
    "\n",
    "print(\"A:\", A)\n",
    "print(\"B:\", B)\n",
    "\n",
    "print(\"A * B:\", A * B)\n"
   ]
  },
  {
   "attachments": {},
   "cell_type": "markdown",
   "metadata": {},
   "source": [
    "### Element-wise Multiplication between a 4D and 2D Matrix\n",
    "Let's say, we have a 4D matrix, A(a=3, b=2, c=2, d=2), and a 2D matrix, B(c=2, d=2). If we perform element-wise multiplication between A and B, the last 2 dimensions of B will be multiplied by the corresponding last 2 dimensions of A. Needless to say, the last 2 dimensions of A and B have to equal."
   ]
  },
  {
   "cell_type": "code",
   "execution_count": 5,
   "metadata": {},
   "outputs": [
    {
     "name": "stdout",
     "output_type": "stream",
     "text": [
      "A: tensor([[[[3, 3],\n",
      "          [1, 3]],\n",
      "\n",
      "         [[6, 2],\n",
      "          [5, 6]]],\n",
      "\n",
      "\n",
      "        [[[6, 6],\n",
      "          [4, 6]],\n",
      "\n",
      "         [[3, 6],\n",
      "          [4, 6]]],\n",
      "\n",
      "\n",
      "        [[[7, 1],\n",
      "          [2, 7]],\n",
      "\n",
      "         [[1, 5],\n",
      "          [6, 3]]]])\n",
      "B: tensor([[4, 4],\n",
      "        [3, 3]])\n",
      "A * B: tensor([[[[12, 12],\n",
      "          [ 3,  9]],\n",
      "\n",
      "         [[24,  8],\n",
      "          [15, 18]]],\n",
      "\n",
      "\n",
      "        [[[24, 24],\n",
      "          [12, 18]],\n",
      "\n",
      "         [[12, 24],\n",
      "          [12, 18]]],\n",
      "\n",
      "\n",
      "        [[[28,  4],\n",
      "          [ 6, 21]],\n",
      "\n",
      "         [[ 4, 20],\n",
      "          [18,  9]]]])\n"
     ]
    }
   ],
   "source": [
    "A = torch.randint(1, 8, (3, 2, 2, 2))\n",
    "B = torch.randint(1, 6, (2, 2))\n",
    "\n",
    "print(\"A:\", A)\n",
    "print(\"B:\", B)\n",
    "\n",
    "print(\"A * B:\", A * B)"
   ]
  },
  {
   "cell_type": "markdown",
   "metadata": {},
   "source": [
    "# Matrix Multiplication"
   ]
  },
  {
   "cell_type": "code",
   "execution_count": 3,
   "metadata": {},
   "outputs": [
    {
     "name": "stdout",
     "output_type": "stream",
     "text": [
      "A: tensor([[[6, 4],\n",
      "         [6, 3]],\n",
      "\n",
      "        [[1, 3],\n",
      "         [1, 4]]])\n",
      "B: tensor([[5, 4, 3],\n",
      "        [3, 1, 2]])\n",
      "torch.matmul(A, B): tensor([[[42, 28, 26],\n",
      "         [39, 27, 24]],\n",
      "\n",
      "        [[14,  7,  9],\n",
      "         [17,  8, 11]]])\n"
     ]
    }
   ],
   "source": [
    "A = torch.randint(1, 8, (2, 2, 2))\n",
    "B = torch.randint(1, 6, (2, 3))\n",
    "\n",
    "print(\"A:\", A)\n",
    "print(\"B:\", B)\n",
    "\n",
    "print(\"torch.matmul(A, B):\", torch.matmul(A, B))"
   ]
  },
  {
   "cell_type": "code",
   "execution_count": 4,
   "metadata": {},
   "outputs": [
    {
     "name": "stdout",
     "output_type": "stream",
     "text": [
      "torch.matmul(A, B): torch.Size([2, 2, 3])\n"
     ]
    }
   ],
   "source": [
    "print(\"torch.matmul(A, B):\", torch.matmul(A, B).shape)"
   ]
  },
  {
   "cell_type": "code",
   "execution_count": 5,
   "metadata": {},
   "outputs": [
    {
     "name": "stdout",
     "output_type": "stream",
     "text": [
      "torch.Size([2, 2])\n"
     ]
    }
   ],
   "source": [
    "a = torch.rand(2,5)\n",
    "b = torch.rand(5,2)\n",
    "result = torch.matmul(a, b)\n",
    "print(result.shape)\n",
    "\n",
    "# m = torch.mm(a, b)\n",
    "# print(m.shape)"
   ]
  },
  {
   "cell_type": "code",
   "execution_count": 11,
   "metadata": {},
   "outputs": [
    {
     "name": "stdout",
     "output_type": "stream",
     "text": [
      "torch.Size([256, 17, 384])\n"
     ]
    }
   ],
   "source": [
    "a = torch.rand(256,17, 384)\n",
    "b = torch.rand(384, 384)\n",
    "result = torch.matmul(a, b)\n",
    "print(result.shape)"
   ]
  },
  {
   "cell_type": "code",
   "execution_count": 4,
   "metadata": {},
   "outputs": [
    {
     "name": "stdout",
     "output_type": "stream",
     "text": [
      "A:  tensor([[2, 7, 6],\n",
      "        [6, 2, 0],\n",
      "        [3, 0, 3]])\n",
      "A^2 or matmul(A, A) tensor([[64, 28, 30],\n",
      "        [24, 46, 36],\n",
      "        [15, 21, 27]])\n"
     ]
    }
   ],
   "source": [
    "A = torch.randint(8, (3, 3))\n",
    "print(\"A: \", A)\n",
    "print(\"A^2 or matmul(A, A)\", torch.matmul(A, A))"
   ]
  }
 ],
 "metadata": {
  "kernelspec": {
   "display_name": "Python 3.8.2 ('gnn')",
   "language": "python",
   "name": "python3"
  },
  "language_info": {
   "codemirror_mode": {
    "name": "ipython",
    "version": 3
   },
   "file_extension": ".py",
   "mimetype": "text/x-python",
   "name": "python",
   "nbconvert_exporter": "python",
   "pygments_lexer": "ipython3",
   "version": "3.8.2"
  },
  "orig_nbformat": 4,
  "vscode": {
   "interpreter": {
    "hash": "179537a2ef8ea6e8b8b88b69ab6d15a68fd2f9dd4f00233cafabf0c9117c382f"
   }
  }
 },
 "nbformat": 4,
 "nbformat_minor": 2
}
