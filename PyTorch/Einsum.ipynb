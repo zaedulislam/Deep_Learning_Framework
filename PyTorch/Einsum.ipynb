{
 "cells": [
  {
   "cell_type": "markdown",
   "metadata": {},
   "source": [
    "# Einsum"
   ]
  },
  {
   "cell_type": "code",
   "execution_count": 24,
   "metadata": {},
   "outputs": [
    {
     "name": "stdout",
     "output_type": "stream",
     "text": [
      "1.7.0+cu110\n"
     ]
    }
   ],
   "source": [
    "import torch\n",
    "import numpy as np\n",
    "print(torch.__version__)"
   ]
  },
  {
   "cell_type": "markdown",
   "metadata": {},
   "source": [
    "## Important Definitions"
   ]
  },
  {
   "cell_type": "markdown",
   "metadata": {},
   "source": [
    "### Free Indicdes: \n",
    "Are the indices specified in the output\n",
    "### Summation Indices:\n",
    "All other indices. Those that appear in the input argument but **NOT** in the output specification"
   ]
  },
  {
   "cell_type": "markdown",
   "metadata": {},
   "source": [
    "- **Free Indices:** i, j\n",
    "- **Summation Index:** k"
   ]
  },
  {
   "cell_type": "code",
   "execution_count": 25,
   "metadata": {},
   "outputs": [
    {
     "name": "stdout",
     "output_type": "stream",
     "text": [
      "A: tensor([[2, 2, 1],\n",
      "        [5, 3, 1]])\n",
      "B: tensor([[4, 5],\n",
      "        [5, 3],\n",
      "        [4, 3]])\n",
      "M: tensor([[22, 19],\n",
      "        [39, 37]])\n"
     ]
    }
   ],
   "source": [
    "A = torch.randint(low = 1, high = 6, size = (2, 3))\n",
    "B = torch.randint(low = 1, high = 6, size= (3, 2))\n",
    "\n",
    "M = torch.einsum(\"ik, kj -> ij\", A, B)\n",
    "\n",
    "print(\"A:\", A)\n",
    "print(\"B:\", B)\n",
    "print(\"M:\", M)"
   ]
  },
  {
   "cell_type": "code",
   "execution_count": 26,
   "metadata": {},
   "outputs": [
    {
     "name": "stdout",
     "output_type": "stream",
     "text": [
      "M: tensor([[22, 19],\n",
      "        [39, 37]])\n"
     ]
    }
   ],
   "source": [
    "M = torch.zeros(size = (2, 2), dtype=int)\n",
    "\n",
    "for i in range(2):\n",
    "    for j in range(2):\n",
    "        total = 0\n",
    "\n",
    "        for k in range(3):\n",
    "            total += A[i, k] * B[k, j]\n",
    "        \n",
    "        M[i, j] = total\n",
    "\n",
    "print(\"M:\", M)"
   ]
  },
  {
   "cell_type": "markdown",
   "metadata": {},
   "source": [
    "## Hadamard Product / Element-wise Multiplication"
   ]
  },
  {
   "cell_type": "code",
   "execution_count": 37,
   "metadata": {},
   "outputs": [
    {
     "name": "stdout",
     "output_type": "stream",
     "text": [
      "A: tensor([[[ 1, 10,  6],\n",
      "         [ 4,  8,  7]],\n",
      "\n",
      "        [[ 8,  1, 10],\n",
      "         [ 9,  7,  6]]])\n",
      "B: tensor([[5, 2, 4],\n",
      "        [2, 2, 5]])\n",
      "M: tensor([[45, 22, 64],\n",
      "        [26, 30, 65]])\n"
     ]
    }
   ],
   "source": [
    "A = torch.randint(low = 1, high = 12, size = (2, 2, 3))\n",
    "B = torch.randint(low = 1, high = 6, size= (2, 3))\n",
    "M = torch.einsum(\"ijk, jk -> jk\", A, B)\n",
    "\n",
    "print(\"A:\", A)\n",
    "print(\"B:\", B)\n",
    "print(\"M:\", M)"
   ]
  },
  {
   "cell_type": "code",
   "execution_count": 41,
   "metadata": {},
   "outputs": [
    {
     "name": "stdout",
     "output_type": "stream",
     "text": [
      "tensor([[ 5, 20, 24],\n",
      "        [ 8, 16, 35]])\n",
      "M: tensor([[ 5, 20, 24],\n",
      "        [ 8, 16, 35]])\n",
      "tensor([[40,  2, 40],\n",
      "        [18, 14, 30]])\n",
      "M: tensor([[45, 22, 64],\n",
      "        [26, 30, 65]])\n"
     ]
    }
   ],
   "source": [
    "M = torch.zeros(size = (2, 3), dtype=int)\n",
    "\n",
    "for i in range(A.size(0)):\n",
    "    print(A[i] * B)\n",
    "    M = M + A[i] * B\n",
    "    print(\"M:\", M)\n"
   ]
  }
 ],
 "metadata": {
  "interpreter": {
   "hash": "d82fd70d9fcd9952b45ce4a4f89c0f5db5fb42e799dfbf03dbd26362f9b624e9"
  },
  "kernelspec": {
   "display_name": "Python 3.8.2 64-bit ('gnn')",
   "language": "python",
   "name": "python3"
  },
  "language_info": {
   "codemirror_mode": {
    "name": "ipython",
    "version": 3
   },
   "file_extension": ".py",
   "mimetype": "text/x-python",
   "name": "python",
   "nbconvert_exporter": "python",
   "pygments_lexer": "ipython3",
   "version": "3.8.2"
  },
  "orig_nbformat": 4
 },
 "nbformat": 4,
 "nbformat_minor": 2
}
