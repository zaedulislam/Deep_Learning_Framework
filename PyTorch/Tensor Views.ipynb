{
 "cells": [
  {
   "cell_type": "code",
   "execution_count": 2,
   "metadata": {},
   "outputs": [
    {
     "name": "stdout",
     "output_type": "stream",
     "text": [
      "1.7.0+cu110\n"
     ]
    }
   ],
   "source": [
    "import torch\n",
    "import numpy as np\n",
    "print(torch.__version__)"
   ]
  },
  {
   "cell_type": "markdown",
   "metadata": {},
   "source": [
    "# TENSOR VIEWS"
   ]
  },
  {
   "cell_type": "markdown",
   "metadata": {},
   "source": [
    "## TORCH.TENSOR.VIEW"
   ]
  },
  {
   "cell_type": "code",
   "execution_count": 3,
   "metadata": {},
   "outputs": [
    {
     "name": "stdout",
     "output_type": "stream",
     "text": [
      "A.shape: torch.Size([4])\n",
      "B.shape: torch.Size([2, 2])\n",
      "`A` and `B` share the same underlying data: True\n",
      "A: tensor([ 2,  0,  2, 11])\n",
      "B: tensor([[ 2,  0],\n",
      "        [ 2, 11]])\n"
     ]
    }
   ],
   "source": [
    "A = torch.randint(low = 0, high = 5, size = (4,))\n",
    "B = A.view(2, 2)\n",
    "\n",
    "print(\"A.shape:\", A.shape)\n",
    "print(\"B.shape:\", B.shape)\n",
    "\n",
    "isSame = A.storage().data_ptr() == B.storage().data_ptr()  # `A` and `B` share the same underlying data.\n",
    "print(\"`A` and `B` share the same underlying data:\", isSame)\n",
    "\n",
    "# Modifying view tensor changes base tensor as well.\n",
    "A[3] = 11\n",
    "B[1][0]\n",
    "\n",
    "print(\"A:\", A)\n",
    "print(\"B:\", B)\n"
   ]
  },
  {
   "cell_type": "code",
   "execution_count": 13,
   "metadata": {},
   "outputs": [
    {
     "name": "stdout",
     "output_type": "stream",
     "text": [
      "x.size(): torch.Size([4, 4])\n",
      "y.size(): torch.Size([16])\n",
      "z.size():  torch.Size([2, 8])\n",
      "a.size(): torch.Size([1, 2, 3, 4])\n",
      "b.size(): torch.Size([1, 3, 2, 4])\n",
      "c.size(): torch.Size([1, 3, 2, 4])\n",
      "torch.equal(b, c): False\n"
     ]
    }
   ],
   "source": [
    "x = torch.randn(4, 4)\n",
    "print(\"x.size():\", x.size())\n",
    "\n",
    "y = x.view(16)\n",
    "print(\"y.size():\", y.size())\n",
    "\n",
    "z = x.view(-1, 8)  # the size -1 is inferred from other dimensions\n",
    "print(\"z.size(): \", z.size())\n",
    "\n",
    "a = torch.randn(1, 2, 3, 4)\n",
    "print(\"a.size():\", a.size())\n",
    "\n",
    "b = a.transpose(1, 2)  # Swaps 2nd and 3rd dimension\n",
    "print(\"b.size():\", b.size())\n",
    "\n",
    "c = a.view(1, 3, 2, 4)  # Does not change tensor layout in memory\n",
    "print(\"c.size():\", c.size())\n",
    "\n",
    "print(\"torch.equal(b, c):\", torch.equal(b, c))"
   ]
  },
  {
   "cell_type": "code",
   "execution_count": 19,
   "metadata": {},
   "outputs": [
    {
     "name": "stdout",
     "output_type": "stream",
     "text": [
      "x.size(): torch.Size([1, 7])\n"
     ]
    },
    {
     "ename": "RuntimeError",
     "evalue": "shape '[2, 3]' is invalid for input of size 7",
     "output_type": "error",
     "traceback": [
      "\u001b[0;31m---------------------------------------------------------------------------\u001b[0m",
      "\u001b[0;31mRuntimeError\u001b[0m                              Traceback (most recent call last)",
      "\u001b[1;32m/home/zayed/Desktop/Research/Workstation/Deep Learning Framework/PyTorch/Tensor Views.ipynb Cell 6'\u001b[0m in \u001b[0;36m<cell line: 4>\u001b[0;34m()\u001b[0m\n\u001b[1;32m      <a href='vscode-notebook-cell:/home/zayed/Desktop/Research/Workstation/Deep%20Learning%20Framework/PyTorch/Tensor%20Views.ipynb#ch0000005?line=0'>1</a>\u001b[0m x \u001b[39m=\u001b[39m torch\u001b[39m.\u001b[39mrandn(\u001b[39m1\u001b[39m, \u001b[39m7\u001b[39m)\n\u001b[1;32m      <a href='vscode-notebook-cell:/home/zayed/Desktop/Research/Workstation/Deep%20Learning%20Framework/PyTorch/Tensor%20Views.ipynb#ch0000005?line=1'>2</a>\u001b[0m \u001b[39mprint\u001b[39m(\u001b[39m\"\u001b[39m\u001b[39mx.size():\u001b[39m\u001b[39m\"\u001b[39m, x\u001b[39m.\u001b[39msize())\n\u001b[0;32m----> <a href='vscode-notebook-cell:/home/zayed/Desktop/Research/Workstation/Deep%20Learning%20Framework/PyTorch/Tensor%20Views.ipynb#ch0000005?line=3'>4</a>\u001b[0m y \u001b[39m=\u001b[39m x\u001b[39m.\u001b[39;49mview(\u001b[39m2\u001b[39;49m, \u001b[39m3\u001b[39;49m)\n",
      "\u001b[0;31mRuntimeError\u001b[0m: shape '[2, 3]' is invalid for input of size 7"
     ]
    }
   ],
   "source": [
    "x = torch.randn(1, 7)\n",
    "print(\"x.size():\", x.size())\n",
    "\n",
    "y = x.view(2, 3)\n"
   ]
  }
 ],
 "metadata": {
  "interpreter": {
   "hash": "d82fd70d9fcd9952b45ce4a4f89c0f5db5fb42e799dfbf03dbd26362f9b624e9"
  },
  "kernelspec": {
   "display_name": "Python 3.8.2 64-bit ('gnn')",
   "language": "python",
   "name": "python3"
  },
  "language_info": {
   "codemirror_mode": {
    "name": "ipython",
    "version": 3
   },
   "file_extension": ".py",
   "mimetype": "text/x-python",
   "name": "python",
   "nbconvert_exporter": "python",
   "pygments_lexer": "ipython3",
   "version": "3.8.2"
  },
  "orig_nbformat": 4
 },
 "nbformat": 4,
 "nbformat_minor": 2
}
