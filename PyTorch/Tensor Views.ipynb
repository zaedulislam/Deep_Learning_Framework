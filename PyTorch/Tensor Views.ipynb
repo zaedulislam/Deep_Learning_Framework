{
 "cells": [
  {
   "cell_type": "code",
   "execution_count": 20,
   "metadata": {},
   "outputs": [
    {
     "name": "stdout",
     "output_type": "stream",
     "text": [
      "1.7.0+cu110\n"
     ]
    }
   ],
   "source": [
    "import torch\n",
    "import numpy as np\n",
    "print(torch.__version__)"
   ]
  },
  {
   "cell_type": "markdown",
   "metadata": {},
   "source": [
    "# TENSOR VIEWS"
   ]
  },
  {
   "cell_type": "markdown",
   "metadata": {},
   "source": [
    "## TORCH.TENSOR.VIEW"
   ]
  },
  {
   "cell_type": "code",
   "execution_count": 21,
   "metadata": {},
   "outputs": [
    {
     "name": "stdout",
     "output_type": "stream",
     "text": [
      "A.shape: torch.Size([4])\n",
      "B.shape: torch.Size([2, 2])\n",
      "`A` and `B` share the same underlying data: True\n",
      "A: tensor([ 1,  2,  4, 11])\n",
      "B: tensor([[ 1,  2],\n",
      "        [ 4, 11]])\n"
     ]
    }
   ],
   "source": [
    "A = torch.randint(low = 0, high = 5, size = (4,))\n",
    "B = A.view(2, 2)\n",
    "\n",
    "print(\"A.shape:\", A.shape)\n",
    "print(\"B.shape:\", B.shape)\n",
    "\n",
    "isSame = A.storage().data_ptr() == B.storage().data_ptr()  # `A` and `B` share the same underlying data.\n",
    "print(\"`A` and `B` share the same underlying data:\", isSame)\n",
    "\n",
    "# Modifying view tensor changes base tensor as well.\n",
    "A[3] = 11\n",
    "B[1][0]\n",
    "\n",
    "print(\"A:\", A)\n",
    "print(\"B:\", B)\n"
   ]
  },
  {
   "cell_type": "code",
   "execution_count": 22,
   "metadata": {},
   "outputs": [
    {
     "name": "stdout",
     "output_type": "stream",
     "text": [
      "x.size(): torch.Size([4, 4])\n",
      "y.size(): torch.Size([16])\n",
      "z.size():  torch.Size([2, 8])\n",
      "a.size(): torch.Size([1, 2, 3, 4])\n",
      "b.size(): torch.Size([1, 3, 2, 4])\n",
      "c.size(): torch.Size([1, 3, 2, 4])\n",
      "torch.equal(b, c): False\n"
     ]
    }
   ],
   "source": [
    "x = torch.randn(4, 4)\n",
    "print(\"x.size():\", x.size())\n",
    "\n",
    "y = x.view(16)\n",
    "print(\"y.size():\", y.size())\n",
    "\n",
    "z = x.view(-1, 8)  # the size -1 is inferred from other dimensions\n",
    "print(\"z.size(): \", z.size())\n",
    "\n",
    "a = torch.randn(1, 2, 3, 4)\n",
    "print(\"a.size():\", a.size())\n",
    "\n",
    "b = a.transpose(1, 2)  # Swaps 2nd and 3rd dimension\n",
    "print(\"b.size():\", b.size())\n",
    "\n",
    "c = a.view(1, 3, 2, 4)  # Does not change tensor layout in memory\n",
    "print(\"c.size():\", c.size())\n",
    "\n",
    "print(\"torch.equal(b, c):\", torch.equal(b, c))"
   ]
  },
  {
   "cell_type": "code",
   "execution_count": 23,
   "metadata": {},
   "outputs": [
    {
     "name": "stdout",
     "output_type": "stream",
     "text": [
      "x.size(): torch.Size([1, 7])\n"
     ]
    },
    {
     "ename": "RuntimeError",
     "evalue": "shape '[2, 3]' is invalid for input of size 7",
     "output_type": "error",
     "traceback": [
      "\u001b[0;31m---------------------------------------------------------------------------\u001b[0m",
      "\u001b[0;31mRuntimeError\u001b[0m                              Traceback (most recent call last)",
      "\u001b[1;32m/home/zayed/Desktop/Research/Workstation/Deep Learning Framework/PyTorch/Tensor Views.ipynb Cell 6'\u001b[0m in \u001b[0;36m<cell line: 4>\u001b[0;34m()\u001b[0m\n\u001b[1;32m      <a href='vscode-notebook-cell:/home/zayed/Desktop/Research/Workstation/Deep%20Learning%20Framework/PyTorch/Tensor%20Views.ipynb#ch0000005?line=0'>1</a>\u001b[0m x \u001b[39m=\u001b[39m torch\u001b[39m.\u001b[39mrandn(\u001b[39m1\u001b[39m, \u001b[39m7\u001b[39m)\n\u001b[1;32m      <a href='vscode-notebook-cell:/home/zayed/Desktop/Research/Workstation/Deep%20Learning%20Framework/PyTorch/Tensor%20Views.ipynb#ch0000005?line=1'>2</a>\u001b[0m \u001b[39mprint\u001b[39m(\u001b[39m\"\u001b[39m\u001b[39mx.size():\u001b[39m\u001b[39m\"\u001b[39m, x\u001b[39m.\u001b[39msize())\n\u001b[0;32m----> <a href='vscode-notebook-cell:/home/zayed/Desktop/Research/Workstation/Deep%20Learning%20Framework/PyTorch/Tensor%20Views.ipynb#ch0000005?line=3'>4</a>\u001b[0m y \u001b[39m=\u001b[39m x\u001b[39m.\u001b[39;49mview(\u001b[39m2\u001b[39;49m, \u001b[39m3\u001b[39;49m)\n",
      "\u001b[0;31mRuntimeError\u001b[0m: shape '[2, 3]' is invalid for input of size 7"
     ]
    }
   ],
   "source": [
    "x = torch.randn(1, 7)\n",
    "print(\"x.size():\", x.size())\n",
    "\n",
    "y = x.view(2, 3)\n"
   ]
  },
  {
   "cell_type": "markdown",
   "metadata": {},
   "source": [
    "## TORCH.TRANSPOSE"
   ]
  },
  {
   "cell_type": "code",
   "execution_count": 29,
   "metadata": {},
   "outputs": [
    {
     "name": "stdout",
     "output_type": "stream",
     "text": [
      "A: tensor([[1, 6, 2],\n",
      "        [1, 4, 9]])\n",
      "Transpose of A: tensor([[1, 1],\n",
      "        [6, 4],\n",
      "        [2, 9]])\n"
     ]
    }
   ],
   "source": [
    "A = torch.randint(low = 1, high = 10, size = (2, 3))\n",
    "transposeOfA = torch.transpose(A, 0, 1)\n",
    "\n",
    "print(\"A:\", A)\n",
    "print(\"Transpose of A:\", transposeOfA)"
   ]
  },
  {
   "cell_type": "code",
   "execution_count": 31,
   "metadata": {},
   "outputs": [
    {
     "name": "stdout",
     "output_type": "stream",
     "text": [
      "A: tensor([[5, 8, 7],\n",
      "        [2, 3, 5]])\n",
      "Transpose of A: tensor([[5, 2],\n",
      "        [8, 3],\n",
      "        [7, 5]])\n",
      "A: tensor([[9999,    8,    7],\n",
      "        [   2,    3,    5]])\n",
      "Transpose of A: tensor([[9999,    2],\n",
      "        [   8,    3],\n",
      "        [   7,    5]])\n"
     ]
    }
   ],
   "source": [
    "A = torch.randint(low = 1, high = 10, size = (2, 3))\n",
    "transposeOfA = torch.transpose(A, 0, 1)\n",
    "\n",
    "print(\"A:\", A)\n",
    "print(\"Transpose of A:\", transposeOfA)\n",
    "\n",
    "# Affects both A and its transpose \n",
    "A[0][0] = 9999\n",
    "\n",
    "print(\"A:\", A)\n",
    "print(\"Transpose of A:\", transposeOfA)"
   ]
  },
  {
   "cell_type": "code",
   "execution_count": 35,
   "metadata": {},
   "outputs": [
    {
     "name": "stdout",
     "output_type": "stream",
     "text": [
      "A: tensor([[[10, 11, 14, 14],\n",
      "         [11,  2,  7,  8],\n",
      "         [ 5, 13,  4,  8]],\n",
      "\n",
      "        [[ 4,  9,  9,  4],\n",
      "         [ 7, 12, 14, 11],\n",
      "         [ 3, 13,  1,  5]]])\n",
      "Transpose of A: tensor([[[10, 11, 14, 14],\n",
      "         [ 4,  9,  9,  4]],\n",
      "\n",
      "        [[11,  2,  7,  8],\n",
      "         [ 7, 12, 14, 11]],\n",
      "\n",
      "        [[ 5, 13,  4,  8],\n",
      "         [ 3, 13,  1,  5]]])\n",
      "A.size(): torch.Size([2, 3, 4])\n",
      "A.dim(): 3\n",
      "transposeOfA.size(): torch.Size([3, 2, 4])\n",
      "transposeOfA.dim(): 3\n"
     ]
    }
   ],
   "source": [
    "A = torch.randint(low = 1, high = 15, size = (2, 3, 4))\n",
    "transposeOfA = torch.transpose(A, 0, 1)\n",
    "\n",
    "print(\"A:\", A)\n",
    "print(\"Transpose of A:\", transposeOfA)\n",
    "\n",
    "print(\"A.size():\", A.size())\n",
    "print(\"A.dim():\", A.dim())\n",
    "\n",
    "print(\"transposeOfA.size():\", transposeOfA.size())\n",
    "print(\"transposeOfA.dim():\", transposeOfA.dim())"
   ]
  }
 ],
 "metadata": {
  "interpreter": {
   "hash": "d82fd70d9fcd9952b45ce4a4f89c0f5db5fb42e799dfbf03dbd26362f9b624e9"
  },
  "kernelspec": {
   "display_name": "Python 3.8.2 64-bit ('gnn')",
   "language": "python",
   "name": "python3"
  },
  "language_info": {
   "codemirror_mode": {
    "name": "ipython",
    "version": 3
   },
   "file_extension": ".py",
   "mimetype": "text/x-python",
   "name": "python",
   "nbconvert_exporter": "python",
   "pygments_lexer": "ipython3",
   "version": "3.8.2"
  },
  "orig_nbformat": 4
 },
 "nbformat": 4,
 "nbformat_minor": 2
}
