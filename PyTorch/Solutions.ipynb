{
 "cells": [
  {
   "cell_type": "code",
   "execution_count": 9,
   "metadata": {},
   "outputs": [],
   "source": [
    "import torch"
   ]
  },
  {
   "attachments": {},
   "cell_type": "markdown",
   "metadata": {},
   "source": [
    "### Create a 1x1x10 tensor in PyTorch with all True values?"
   ]
  },
  {
   "cell_type": "code",
   "execution_count": 8,
   "metadata": {},
   "outputs": [
    {
     "data": {
      "text/plain": [
       "torch.Size([1, 1, 10])"
      ]
     },
     "execution_count": 8,
     "metadata": {},
     "output_type": "execute_result"
    }
   ],
   "source": [
    "src_mask = torch.tensor([[[True, True, True, True, True, True, True, True, True, True]]])\n",
    "src_mask.shape"
   ]
  },
  {
   "cell_type": "code",
   "execution_count": 13,
   "metadata": {},
   "outputs": [
    {
     "name": "stdout",
     "output_type": "stream",
     "text": [
      "tensor([[[True, True, True, True, True, True, True, True, True, True]]])\n"
     ]
    }
   ],
   "source": [
    "n = 10\n",
    "src_mask = torch.ones(1, 1, n, dtype=torch.bool)\n",
    "print(src_mask)\n"
   ]
  }
 ],
 "metadata": {
  "kernelspec": {
   "display_name": "gnn_lf_hf",
   "language": "python",
   "name": "python3"
  },
  "language_info": {
   "codemirror_mode": {
    "name": "ipython",
    "version": 3
   },
   "file_extension": ".py",
   "mimetype": "text/x-python",
   "name": "python",
   "nbconvert_exporter": "python",
   "pygments_lexer": "ipython3",
   "version": "3.8.15"
  },
  "orig_nbformat": 4,
  "vscode": {
   "interpreter": {
    "hash": "fd0bdedaed9c3be7ea851295a0b6eec1926ed26cc66915c1d7cae9a65a589ce8"
   }
  }
 },
 "nbformat": 4,
 "nbformat_minor": 2
}
