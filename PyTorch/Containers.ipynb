{
 "cells": [
  {
   "cell_type": "code",
   "execution_count": 49,
   "metadata": {},
   "outputs": [
    {
     "name": "stdout",
     "output_type": "stream",
     "text": [
      "1.7.0+cu110\n"
     ]
    }
   ],
   "source": [
    "import torch\n",
    "from torch import nn\n",
    "print(torch.__version__)"
   ]
  },
  {
   "cell_type": "markdown",
   "metadata": {},
   "source": [
    "# Containers"
   ]
  },
  {
   "cell_type": "markdown",
   "metadata": {},
   "source": [
    "## MODULEDICT"
   ]
  },
  {
   "cell_type": "code",
   "execution_count": 50,
   "metadata": {},
   "outputs": [
    {
     "name": "stdout",
     "output_type": "stream",
     "text": [
      "ModuleDict(\n",
      "  (0): Linear(in_features=256, out_features=384, bias=False)\n",
      "  (1): Linear(in_features=256, out_features=384, bias=False)\n",
      ")\n"
     ]
    }
   ],
   "source": [
    "K = 2\n",
    "in_features = 256\n",
    "out_features = 384\n",
    "\n",
    "submodules = nn.ModuleDict({\n",
    "                str(k): nn.Linear(in_features=in_features, out_features=out_features, bias=False) for k in range(K) \n",
    "        })\n",
    "       \n",
    "print(submodules)"
   ]
  },
  {
   "cell_type": "code",
   "execution_count": 51,
   "metadata": {},
   "outputs": [
    {
     "data": {
      "text/plain": [
       "Linear(in_features=256, out_features=384, bias=False)"
      ]
     },
     "execution_count": 51,
     "metadata": {},
     "output_type": "execute_result"
    }
   ],
   "source": [
    "submodules['0']"
   ]
  },
  {
   "cell_type": "code",
   "execution_count": 52,
   "metadata": {},
   "outputs": [
    {
     "data": {
      "text/plain": [
       "Linear(in_features=256, out_features=384, bias=False)"
      ]
     },
     "execution_count": 52,
     "metadata": {},
     "output_type": "execute_result"
    }
   ],
   "source": [
    "submodules['1']"
   ]
  },
  {
   "cell_type": "code",
   "execution_count": 53,
   "metadata": {},
   "outputs": [
    {
     "data": {
      "text/plain": [
       "odict_items([('0', Linear(in_features=256, out_features=384, bias=False)), ('1', Linear(in_features=256, out_features=384, bias=False))])"
      ]
     },
     "execution_count": 53,
     "metadata": {},
     "output_type": "execute_result"
    }
   ],
   "source": [
    "submodules.items()"
   ]
  },
  {
   "cell_type": "markdown",
   "metadata": {},
   "source": [
    "## PARAMETERDICT"
   ]
  },
  {
   "cell_type": "code",
   "execution_count": 54,
   "metadata": {},
   "outputs": [
    {
     "name": "stdout",
     "output_type": "stream",
     "text": [
      "W: Parameter containing:\n",
      "tensor([[ 0.5367, -1.0012,  0.1146],\n",
      "        [ 0.5775,  0.2551,  1.0153]], requires_grad=True)\n",
      "W1: Parameter containing:\n",
      "tensor([[ 0.2246,  1.1879,  0.0477],\n",
      "        [-1.0705, -1.2040,  1.3738]], requires_grad=True)\n"
     ]
    }
   ],
   "source": [
    "in_features = 2\n",
    "out_features = 3\n",
    "dropout = nn.Dropout(p=0.2)\n",
    "\n",
    "W = nn.Parameter(torch.zeros(size=(in_features, out_features), dtype=torch.float))\n",
    "nn.init.xavier_uniform_(W.data, gain=1.414)\n",
    "\n",
    "\n",
    "W1 = nn.Parameter(torch.zeros(size=(in_features, out_features), dtype=torch.float))\n",
    "nn.init.xavier_uniform_(W1.data, gain=1.414)\n",
    "\n",
    "print(\"W:\", W)\n",
    "print(\"W1:\", W1)"
   ]
  },
  {
   "cell_type": "markdown",
   "metadata": {},
   "source": [
    "### Initial Weight Matrices"
   ]
  },
  {
   "cell_type": "code",
   "execution_count": 55,
   "metadata": {},
   "outputs": [
    {
     "name": "stdout",
     "output_type": "stream",
     "text": [
      "W_0: Parameter containing:\n",
      "tensor([[ 0.2756,  1.0208, -1.5280],\n",
      "        [ 0.4719, -1.3388,  0.9247]], requires_grad=True)\n",
      "W_0: Parameter containing:\n",
      "tensor([[-1.4721, -0.0601, -0.2508],\n",
      "        [ 0.7537,  0.8154,  0.6244]], requires_grad=True)\n",
      "W_0: Parameter containing:\n",
      "tensor([[ 0.5841,  1.4456,  1.0069],\n",
      "        [-1.1005,  0.7155, -0.2154]], requires_grad=True)\n"
     ]
    }
   ],
   "source": [
    "in_features = 2\n",
    "out_features = 3\n",
    "K = 3\n",
    "dropout = nn.Dropout(p=0.2)\n",
    "\n",
    "W_0 = nn.ParameterDict({})\n",
    "\n",
    "for k in range(K):\n",
    "    weight_matrix = nn.Parameter(torch.zeros(size=(in_features, out_features), dtype=torch.float))\n",
    "    nn.init.xavier_uniform_(weight_matrix.data, gain=1.414)\n",
    "    W_0.update({str(k): weight_matrix})\n",
    "\n",
    "\n",
    "for k in range(K):\n",
    "    print(\"W_0:\", W_0[str(k)])"
   ]
  },
  {
   "cell_type": "markdown",
   "metadata": {},
   "source": [
    "### Deeper Weight Matrices"
   ]
  },
  {
   "cell_type": "code",
   "execution_count": 56,
   "metadata": {},
   "outputs": [
    {
     "name": "stdout",
     "output_type": "stream",
     "text": [
      "W: Parameter containing:\n",
      "tensor([[ 1.0805,  0.4907, -0.5316],\n",
      "        [ 0.5271,  1.1622,  0.4409],\n",
      "        [ 1.3866,  0.6420, -0.5513]], requires_grad=True)\n",
      "W: Parameter containing:\n",
      "tensor([[-0.7180,  0.7325,  0.9964],\n",
      "        [-0.6868,  1.1877, -0.2066],\n",
      "        [ 0.0638,  1.1374,  0.3401]], requires_grad=True)\n",
      "W: Parameter containing:\n",
      "tensor([[-0.0647,  0.9215, -0.4554],\n",
      "        [ 1.3577,  0.3805,  0.0052],\n",
      "        [ 1.3263,  0.6866,  0.2499]], requires_grad=True)\n"
     ]
    }
   ],
   "source": [
    "in_features = 2\n",
    "out_features = 3\n",
    "K = 3\n",
    "dropout = nn.Dropout(p=0.2)\n",
    "\n",
    "W = nn.ParameterDict({})\n",
    "\n",
    "for k in range(K):\n",
    "    weight_matrix = nn.Parameter(torch.zeros(size=(out_features, out_features), dtype=torch.float))\n",
    "    nn.init.xavier_uniform_(weight_matrix.data, gain=1.414)\n",
    "    W.update({str(k): weight_matrix})\n",
    "\n",
    "\n",
    "for k in range(K):\n",
    "    print(\"W:\", W[str(k)])"
   ]
  },
  {
   "cell_type": "markdown",
   "metadata": {},
   "source": [
    "### V"
   ]
  },
  {
   "cell_type": "code",
   "execution_count": 57,
   "metadata": {},
   "outputs": [
    {
     "name": "stdout",
     "output_type": "stream",
     "text": [
      "V: Parameter containing:\n",
      "tensor([[-0.5614, -0.6842, -0.8585],\n",
      "        [ 0.4292,  0.5178, -0.0989],\n",
      "        [-0.4743, -1.2789, -0.2739]], requires_grad=True)\n",
      "V: Parameter containing:\n",
      "tensor([[-0.5420,  0.0748,  0.0246],\n",
      "        [-1.3938,  0.4892,  0.9746],\n",
      "        [ 0.1958, -0.0764,  0.2099]], requires_grad=True)\n",
      "V: Parameter containing:\n",
      "tensor([[-0.1162, -0.5148,  0.5048],\n",
      "        [ 0.3429, -0.3878,  0.1285],\n",
      "        [ 1.4073, -1.3754,  0.5097]], requires_grad=True)\n"
     ]
    }
   ],
   "source": [
    "in_features = 2\n",
    "out_features = 3\n",
    "K = 3\n",
    "dropout = nn.Dropout(p=0.2)\n",
    "\n",
    "V = nn.ParameterDict({})\n",
    "\n",
    "for k in range(K):\n",
    "    weight_matrix = nn.Parameter(torch.zeros(size=(out_features, out_features), dtype=torch.float))\n",
    "    nn.init.xavier_uniform_(weight_matrix.data, gain=1.414)\n",
    "    V.update({str(k): weight_matrix})\n",
    "\n",
    "\n",
    "for k in range(K):\n",
    "    print(\"V:\", V[str(k)])"
   ]
  }
 ],
 "metadata": {
  "interpreter": {
   "hash": "179537a2ef8ea6e8b8b88b69ab6d15a68fd2f9dd4f00233cafabf0c9117c382f"
  },
  "kernelspec": {
   "display_name": "Python 3.8.2 ('gnn')",
   "language": "python",
   "name": "python3"
  },
  "language_info": {
   "codemirror_mode": {
    "name": "ipython",
    "version": 3
   },
   "file_extension": ".py",
   "mimetype": "text/x-python",
   "name": "python",
   "nbconvert_exporter": "python",
   "pygments_lexer": "ipython3",
   "version": "3.8.2"
  },
  "orig_nbformat": 4
 },
 "nbformat": 4,
 "nbformat_minor": 2
}
