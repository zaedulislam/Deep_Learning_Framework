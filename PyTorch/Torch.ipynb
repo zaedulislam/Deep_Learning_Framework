{
 "cells": [
  {
   "cell_type": "code",
   "execution_count": 1,
   "metadata": {},
   "outputs": [
    {
     "name": "stdout",
     "output_type": "stream",
     "text": [
      "1.11.0\n"
     ]
    }
   ],
   "source": [
    "import torch\n",
    "from torch import nn\n",
    "print(torch.__version__)"
   ]
  },
  {
   "cell_type": "markdown",
   "metadata": {},
   "source": [
    "# TORCH"
   ]
  },
  {
   "cell_type": "markdown",
   "metadata": {},
   "source": [
    "## TORCH.POW"
   ]
  },
  {
   "cell_type": "code",
   "execution_count": 2,
   "metadata": {},
   "outputs": [
    {
     "name": "stdout",
     "output_type": "stream",
     "text": [
      "A: tensor([4, 6, 6])\n",
      "result: tensor([16, 36, 36])\n"
     ]
    }
   ],
   "source": [
    "A = torch.randint(low=2, high=7, size=(3,))\n",
    "print(\"A:\", A)\n",
    "\n",
    "result = torch.pow(A, 2)\n",
    "print(\"result:\", result)"
   ]
  },
  {
   "cell_type": "markdown",
   "metadata": {},
   "source": [
    "## TORCH.CLAMP"
   ]
  },
  {
   "cell_type": "code",
   "execution_count": 3,
   "metadata": {},
   "outputs": [
    {
     "name": "stdout",
     "output_type": "stream",
     "text": [
      "A: tensor([ 1.2523, -0.9718, -1.0578, -1.1109])\n"
     ]
    },
    {
     "data": {
      "text/plain": [
       "tensor([ 0.5000, -0.5000, -0.5000, -0.5000])"
      ]
     },
     "execution_count": 3,
     "metadata": {},
     "output_type": "execute_result"
    }
   ],
   "source": [
    "A = torch.randn(4)\n",
    "print(\"A:\", A)\n",
    "\n",
    "torch.clamp(A, min=-0.5, max=0.5)\n"
   ]
  },
  {
   "cell_type": "markdown",
   "metadata": {},
   "source": [
    "## TORCH.TRIU"
   ]
  },
  {
   "cell_type": "code",
   "execution_count": 4,
   "metadata": {},
   "outputs": [
    {
     "name": "stdout",
     "output_type": "stream",
     "text": [
      "A: tensor([[-0.6096,  0.3587,  0.9665],\n",
      "        [ 1.0254,  1.3564,  1.1744],\n",
      "        [-0.4966, -0.8655,  0.0188]])\n"
     ]
    }
   ],
   "source": [
    "A = torch.randn(3, 3)\n",
    "print(\"A:\", A)"
   ]
  },
  {
   "cell_type": "code",
   "execution_count": 5,
   "metadata": {},
   "outputs": [
    {
     "data": {
      "text/plain": [
       "tensor([[-0.6096,  0.3587,  0.9665],\n",
       "        [ 0.0000,  1.3564,  1.1744],\n",
       "        [ 0.0000,  0.0000,  0.0188]])"
      ]
     },
     "execution_count": 5,
     "metadata": {},
     "output_type": "execute_result"
    }
   ],
   "source": [
    "torch.triu(A)"
   ]
  },
  {
   "cell_type": "code",
   "execution_count": 6,
   "metadata": {},
   "outputs": [
    {
     "data": {
      "text/plain": [
       "tensor([[-0.6096,  0.3587,  0.9665],\n",
       "        [ 0.0000,  1.3564,  1.1744],\n",
       "        [ 0.0000,  0.0000,  0.0188]])"
      ]
     },
     "execution_count": 6,
     "metadata": {},
     "output_type": "execute_result"
    }
   ],
   "source": [
    "torch.triu(A, diagonal=0)"
   ]
  },
  {
   "cell_type": "code",
   "execution_count": 7,
   "metadata": {},
   "outputs": [
    {
     "data": {
      "text/plain": [
       "tensor([[0.0000, 0.3587, 0.9665],\n",
       "        [0.0000, 0.0000, 1.1744],\n",
       "        [0.0000, 0.0000, 0.0000]])"
      ]
     },
     "execution_count": 7,
     "metadata": {},
     "output_type": "execute_result"
    }
   ],
   "source": [
    "torch.triu(A, diagonal=1)"
   ]
  },
  {
   "cell_type": "code",
   "execution_count": 13,
   "metadata": {},
   "outputs": [
    {
     "name": "stdout",
     "output_type": "stream",
     "text": [
      "x: tensor([[0.0000, 0.3587, 0.9665],\n",
      "        [0.0000, 0.0000, 1.1744],\n",
      "        [0.0000, 0.0000, 0.0000]])\n",
      "y: tensor([[0.0000, 0.0000, 0.0000],\n",
      "        [0.3587, 0.0000, 0.0000],\n",
      "        [0.9665, 1.1744, 0.0000]])\n"
     ]
    }
   ],
   "source": [
    "x = torch.triu(A, diagonal=1)\n",
    "y = x.T\n",
    "print(\"x:\", x)\n",
    "print(\"y:\", y)"
   ]
  },
  {
   "cell_type": "code",
   "execution_count": 8,
   "metadata": {},
   "outputs": [
    {
     "data": {
      "text/plain": [
       "tensor([[0.0000, 0.0000, 0.9665],\n",
       "        [0.0000, 0.0000, 0.0000],\n",
       "        [0.0000, 0.0000, 0.0000]])"
      ]
     },
     "execution_count": 8,
     "metadata": {},
     "output_type": "execute_result"
    }
   ],
   "source": [
    "torch.triu(A, diagonal=2)"
   ]
  },
  {
   "cell_type": "code",
   "execution_count": 9,
   "metadata": {},
   "outputs": [
    {
     "data": {
      "text/plain": [
       "tensor([[-0.6096,  0.3587,  0.9665],\n",
       "        [ 1.0254,  1.3564,  1.1744],\n",
       "        [ 0.0000, -0.8655,  0.0188]])"
      ]
     },
     "execution_count": 9,
     "metadata": {},
     "output_type": "execute_result"
    }
   ],
   "source": [
    "torch.triu(A, diagonal=-1)"
   ]
  },
  {
   "cell_type": "markdown",
   "metadata": {},
   "source": [
    "## TORCH.TRIL"
   ]
  },
  {
   "cell_type": "code",
   "execution_count": 14,
   "metadata": {},
   "outputs": [
    {
     "name": "stdout",
     "output_type": "stream",
     "text": [
      "A: tensor([[-0.3782,  0.6845,  0.3236],\n",
      "        [ 0.4145,  0.5247,  1.7879],\n",
      "        [ 1.2359, -0.4351, -0.3029]])\n"
     ]
    }
   ],
   "source": [
    "A = torch.randn(3, 3)\n",
    "print(\"A:\", A)"
   ]
  },
  {
   "cell_type": "code",
   "execution_count": 15,
   "metadata": {},
   "outputs": [
    {
     "data": {
      "text/plain": [
       "tensor([[-0.3782,  0.0000,  0.0000],\n",
       "        [ 0.4145,  0.5247,  0.0000],\n",
       "        [ 1.2359, -0.4351, -0.3029]])"
      ]
     },
     "execution_count": 15,
     "metadata": {},
     "output_type": "execute_result"
    }
   ],
   "source": [
    "torch.tril(A)"
   ]
  },
  {
   "cell_type": "code",
   "execution_count": 17,
   "metadata": {},
   "outputs": [
    {
     "data": {
      "text/plain": [
       "tensor([[ 0.0000,  0.0000,  0.0000],\n",
       "        [ 0.4145,  0.0000,  0.0000],\n",
       "        [ 1.2359, -0.4351,  0.0000]])"
      ]
     },
     "execution_count": 17,
     "metadata": {},
     "output_type": "execute_result"
    }
   ],
   "source": [
    "torch.tril(A, diagonal=-1)"
   ]
  },
  {
   "attachments": {},
   "cell_type": "markdown",
   "metadata": {},
   "source": [
    "## TORCH.MATRIX_POWER\n",
    "Sometimes, we may need to get a tensor raised to a specific power n. For example, we may need to get the tensor with power of n = 2 or more. In this case, the function torch.matrix_power() is very helpful. Note that if the value of n is negative, the function will return the inverse of the tensor raised to the power n. Also, the matrix has to be a square matrix with size (m,m)"
   ]
  },
  {
   "cell_type": "code",
   "execution_count": 10,
   "metadata": {},
   "outputs": [
    {
     "name": "stdout",
     "output_type": "stream",
     "text": [
      "A:\n",
      " tensor([[7, 7, 5],\n",
      "        [3, 3, 4],\n",
      "        [1, 6, 6]])\n"
     ]
    }
   ],
   "source": [
    "A = torch.randint(8, (3, 3))\n",
    "print(\"A:\\n\", A)"
   ]
  },
  {
   "cell_type": "code",
   "execution_count": 11,
   "metadata": {},
   "outputs": [
    {
     "name": "stdout",
     "output_type": "stream",
     "text": [
      "A^0 tensor([[1, 0, 0],\n",
      "        [0, 1, 0],\n",
      "        [0, 0, 1]])\n"
     ]
    }
   ],
   "source": [
    "print(\"A^0\", torch.matrix_power(A, 0))"
   ]
  },
  {
   "cell_type": "code",
   "execution_count": 13,
   "metadata": {},
   "outputs": [
    {
     "name": "stdout",
     "output_type": "stream",
     "text": [
      "A^0 tensor([[7, 7, 5],\n",
      "        [3, 3, 4],\n",
      "        [1, 6, 6]])\n"
     ]
    }
   ],
   "source": [
    "print(\"A^1\", torch.matrix_power(A, 1))"
   ]
  },
  {
   "cell_type": "code",
   "execution_count": 14,
   "metadata": {},
   "outputs": [
    {
     "name": "stdout",
     "output_type": "stream",
     "text": [
      "A^2 tensor([[ 75, 100,  93],\n",
      "        [ 34,  54,  51],\n",
      "        [ 31,  61,  65]])\n"
     ]
    }
   ],
   "source": [
    "print(\"A^2\", torch.matrix_power(A, 2))"
   ]
  }
 ],
 "metadata": {
  "interpreter": {
   "hash": "179537a2ef8ea6e8b8b88b69ab6d15a68fd2f9dd4f00233cafabf0c9117c382f"
  },
  "kernelspec": {
   "display_name": "Python 3.8.2 ('gnn')",
   "language": "python",
   "name": "python3"
  },
  "language_info": {
   "codemirror_mode": {
    "name": "ipython",
    "version": 3
   },
   "file_extension": ".py",
   "mimetype": "text/x-python",
   "name": "python",
   "nbconvert_exporter": "python",
   "pygments_lexer": "ipython3",
   "version": "3.8.2"
  },
  "orig_nbformat": 4
 },
 "nbformat": 4,
 "nbformat_minor": 2
}
