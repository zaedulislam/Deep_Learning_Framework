{
 "cells": [
  {
   "cell_type": "code",
   "execution_count": 2,
   "metadata": {},
   "outputs": [
    {
     "name": "stdout",
     "output_type": "stream",
     "text": [
      "1.11.0\n"
     ]
    }
   ],
   "source": [
    "import torch\n",
    "from torch import nn\n",
    "print(torch.__version__)"
   ]
  },
  {
   "cell_type": "markdown",
   "metadata": {},
   "source": [
    "# TORCH"
   ]
  },
  {
   "cell_type": "markdown",
   "metadata": {},
   "source": [
    "## TORCH.POW"
   ]
  },
  {
   "cell_type": "code",
   "execution_count": 2,
   "metadata": {},
   "outputs": [
    {
     "name": "stdout",
     "output_type": "stream",
     "text": [
      "A: tensor([2, 4, 6])\n",
      "result: tensor([ 4, 16, 36])\n"
     ]
    }
   ],
   "source": [
    "A = torch.randint(low=2, high=7, size=(3,))\n",
    "print(\"A:\", A)\n",
    "\n",
    "result = torch.pow(A, 2)\n",
    "print(\"result:\", result)"
   ]
  },
  {
   "cell_type": "markdown",
   "metadata": {},
   "source": [
    "## TORCH.CLAMP"
   ]
  },
  {
   "cell_type": "code",
   "execution_count": 7,
   "metadata": {},
   "outputs": [
    {
     "name": "stdout",
     "output_type": "stream",
     "text": [
      "A: tensor([-0.2475, -0.5333, -0.0557, -0.9554])\n"
     ]
    },
    {
     "data": {
      "text/plain": [
       "tensor([-0.2475, -0.5000, -0.0557, -0.5000])"
      ]
     },
     "execution_count": 7,
     "metadata": {},
     "output_type": "execute_result"
    }
   ],
   "source": [
    "A = torch.randn(4)\n",
    "print(\"A:\", A)\n",
    "\n",
    "torch.clamp(A, min=-0.5, max=0.5)\n"
   ]
  },
  {
   "cell_type": "markdown",
   "metadata": {},
   "source": [
    "## TORCH.TRIU"
   ]
  },
  {
   "cell_type": "code",
   "execution_count": 3,
   "metadata": {},
   "outputs": [
    {
     "name": "stdout",
     "output_type": "stream",
     "text": [
      "A: tensor([[ 0.6271, -1.5570, -0.3644],\n",
      "        [-0.0268, -0.5251, -0.4088],\n",
      "        [ 1.1846, -0.0268,  0.2569]])\n"
     ]
    }
   ],
   "source": [
    "A = torch.randn(3, 3)\n",
    "print(\"A:\", A)"
   ]
  },
  {
   "cell_type": "code",
   "execution_count": 4,
   "metadata": {},
   "outputs": [
    {
     "data": {
      "text/plain": [
       "tensor([[ 0.6271, -1.5570, -0.3644],\n",
       "        [ 0.0000, -0.5251, -0.4088],\n",
       "        [ 0.0000,  0.0000,  0.2569]])"
      ]
     },
     "execution_count": 4,
     "metadata": {},
     "output_type": "execute_result"
    }
   ],
   "source": [
    "torch.triu(A)"
   ]
  },
  {
   "cell_type": "code",
   "execution_count": 5,
   "metadata": {},
   "outputs": [
    {
     "data": {
      "text/plain": [
       "tensor([[ 0.6271, -1.5570, -0.3644],\n",
       "        [ 0.0000, -0.5251, -0.4088],\n",
       "        [ 0.0000,  0.0000,  0.2569]])"
      ]
     },
     "execution_count": 5,
     "metadata": {},
     "output_type": "execute_result"
    }
   ],
   "source": [
    "torch.triu(A, diagonal=0)"
   ]
  },
  {
   "cell_type": "code",
   "execution_count": 6,
   "metadata": {},
   "outputs": [
    {
     "data": {
      "text/plain": [
       "tensor([[ 0.0000, -1.5570, -0.3644],\n",
       "        [ 0.0000,  0.0000, -0.4088],\n",
       "        [ 0.0000,  0.0000,  0.0000]])"
      ]
     },
     "execution_count": 6,
     "metadata": {},
     "output_type": "execute_result"
    }
   ],
   "source": [
    "torch.triu(A, diagonal=1)"
   ]
  },
  {
   "cell_type": "code",
   "execution_count": 7,
   "metadata": {},
   "outputs": [
    {
     "data": {
      "text/plain": [
       "tensor([[ 0.0000,  0.0000, -0.3644],\n",
       "        [ 0.0000,  0.0000,  0.0000],\n",
       "        [ 0.0000,  0.0000,  0.0000]])"
      ]
     },
     "execution_count": 7,
     "metadata": {},
     "output_type": "execute_result"
    }
   ],
   "source": [
    "torch.triu(A, diagonal=2)"
   ]
  }
 ],
 "metadata": {
  "interpreter": {
   "hash": "179537a2ef8ea6e8b8b88b69ab6d15a68fd2f9dd4f00233cafabf0c9117c382f"
  },
  "kernelspec": {
   "display_name": "Python 3.8.2 ('gnn')",
   "language": "python",
   "name": "python3"
  },
  "language_info": {
   "codemirror_mode": {
    "name": "ipython",
    "version": 3
   },
   "file_extension": ".py",
   "mimetype": "text/x-python",
   "name": "python",
   "nbconvert_exporter": "python",
   "pygments_lexer": "ipython3",
   "version": "3.8.2"
  },
  "orig_nbformat": 4
 },
 "nbformat": 4,
 "nbformat_minor": 2
}
