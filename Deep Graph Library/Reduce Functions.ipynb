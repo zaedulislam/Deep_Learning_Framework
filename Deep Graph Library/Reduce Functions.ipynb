{
 "cells": [
  {
   "cell_type": "code",
   "execution_count": 4,
   "metadata": {},
   "outputs": [],
   "source": [
    "import torch\n",
    "import torch.nn as nn\n",
    "import torch.nn.functional as F\n",
    "import dgl\n",
    "import dgl.function as fn\n",
    "import math\n",
    "import networkx as nx\n",
    "import matplotlib\n",
    "\n",
    "from dgl.nn.pytorch.glob import AvgPooling"
   ]
  },
  {
   "cell_type": "markdown",
   "metadata": {},
   "source": [
    "# Reduce Functions"
   ]
  },
  {
   "cell_type": "markdown",
   "metadata": {},
   "source": [
    "## dgl.function.sum"
   ]
  },
  {
   "cell_type": "markdown",
   "metadata": {},
   "source": [
    "### Build a toy graph"
   ]
  },
  {
   "cell_type": "code",
   "execution_count": 5,
   "metadata": {},
   "outputs": [
    {
     "name": "stderr",
     "output_type": "stream",
     "text": [
      "/home/zayed/anaconda3/envs/arma_dgl/lib/python3.8/site-packages/dgl/heterograph.py:72: DGLWarning: Recommend creating graphs by `dgl.graph(data)` instead of `dgl.DGLGraph(data)`.\n",
      "  dgl_warning('Recommend creating graphs by `dgl.graph(data)`'\n"
     ]
    },
    {
     "name": "stdout",
     "output_type": "stream",
     "text": [
      "G: Graph(num_nodes=4, num_edges=3,\n",
      "      ndata_schemes={}\n",
      "      edata_schemes={})\n"
     ]
    },
    {
     "data": {
      "image/png": "[encoded data removed]",
      "text/plain": [
       "<Figure size 432x288 with 1 Axes>"
      ]
     },
     "metadata": {},
     "output_type": "display_data"
    }
   ],
   "source": [
    "u = torch.tensor([0, 0, 3])\n",
    "v = torch.tensor([1, 2, 2])\n",
    "G = dgl.DGLGraph((u, v))\n",
    "nx.draw(G.to_networkx(), with_labels=True)\n",
    "\n",
    "print(\"G:\", G)"
   ]
  },
  {
   "cell_type": "markdown",
   "metadata": {},
   "source": [
    "### Result of fn.sum"
   ]
  },
  {
   "cell_type": "code",
   "execution_count": 13,
   "metadata": {},
   "outputs": [
    {
     "name": "stdout",
     "output_type": "stream",
     "text": [
      "G.number_of_nodes(): 4\n",
      "tensor([[ 0.4760,  0.0927],\n",
      "        [ 2.1297, -0.5760],\n",
      "        [ 0.6659,  0.1621],\n",
      "        [-1.1798, -0.4679]])\n",
      "tensor([[ 0.0000,  0.0000],\n",
      "        [ 0.4760,  0.0927],\n",
      "        [-0.7038, -0.3752],\n",
      "        [ 0.0000,  0.0000]])\n"
     ]
    }
   ],
   "source": [
    "print(\"G.number_of_nodes():\", G.number_of_nodes())\n",
    "G.ndata['h'] = torch.randn((G.number_of_nodes(), 2))\n",
    "print(G.ndata['h'])\n",
    "\n",
    "G.update_all(fn.copy_u('h', 'm'), fn.sum('m', 'h_sum'))\n",
    "print(G.ndata['h_sum'])"
   ]
  }
 ],
 "metadata": {
  "kernelspec": {
   "display_name": "Python 3.8.2 ('arma_dgl')",
   "language": "python",
   "name": "python3"
  },
  "language_info": {
   "codemirror_mode": {
    "name": "ipython",
    "version": 3
   },
   "file_extension": ".py",
   "mimetype": "text/x-python",
   "name": "python",
   "nbconvert_exporter": "python",
   "pygments_lexer": "ipython3",
   "version": "3.8.2"
  },
  "orig_nbformat": 4,
  "vscode": {
   "interpreter": {
    "hash": "7e47f632006c667be673d13c799d80befbb300e1e2bc3eb75d3c14ae749ed0f3"
   }
  }
 },
 "nbformat": 4,
 "nbformat_minor": 2
}
