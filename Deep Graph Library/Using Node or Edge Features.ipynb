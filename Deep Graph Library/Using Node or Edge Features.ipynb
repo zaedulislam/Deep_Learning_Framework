{
 "cells": [
  {
   "cell_type": "code",
   "execution_count": 8,
   "metadata": {},
   "outputs": [],
   "source": [
    "import torch\n",
    "import torch.nn as nn\n",
    "import torch.nn.functional as F\n",
    "import dgl\n",
    "import dgl.function as fn\n",
    "import math\n",
    "import networkx as nx\n",
    "import matplotlib\n",
    "\n",
    "from dgl.nn.pytorch.glob import AvgPooling"
   ]
  },
  {
   "cell_type": "markdown",
   "metadata": {},
   "source": [
    "## dgl.DGLGraph.ndata"
   ]
  },
  {
   "cell_type": "code",
   "execution_count": 9,
   "metadata": {},
   "outputs": [],
   "source": [
    "# g.ndata[\"h\"] = feats\n",
    "# g.update_all(fn.copy_u(\"h\", \"m\"), fn.sum(\"m\", \"h\"))\n",
    "# feats = g.ndata.pop(\"h\")\n",
    "# feats = feats * norm"
   ]
  },
  {
   "cell_type": "code",
   "execution_count": 10,
   "metadata": {},
   "outputs": [
    {
     "name": "stdout",
     "output_type": "stream",
     "text": [
      "G: Graph(num_nodes=3, num_edges=2,\n",
      "      ndata_schemes={}\n",
      "      edata_schemes={})\n",
      "G: Graph(num_nodes=3, num_edges=2,\n",
      "      ndata_schemes={'h': Scheme(shape=(1,), dtype=torch.float32)}\n",
      "      edata_schemes={})\n",
      "feats: tensor([[1.],\n",
      "        [1.],\n",
      "        [1.]])\n"
     ]
    }
   ],
   "source": [
    "G = dgl.graph((torch.tensor([0, 1]), torch.tensor([1, 2])))\n",
    "print(\"G:\", G)\n",
    "\n",
    "G.ndata['h'] = torch.ones(3, 1)\n",
    "print(\"G:\", G)\n",
    "\n",
    "feats = G.ndata.pop(\"h\")\n",
    "print(\"feats:\", feats)"
   ]
  }
 ],
 "metadata": {
  "kernelspec": {
   "display_name": "Python 3.8.2 ('arma_dgl')",
   "language": "python",
   "name": "python3"
  },
  "language_info": {
   "codemirror_mode": {
    "name": "ipython",
    "version": 3
   },
   "file_extension": ".py",
   "mimetype": "text/x-python",
   "name": "python",
   "nbconvert_exporter": "python",
   "pygments_lexer": "ipython3",
   "version": "3.8.2"
  },
  "orig_nbformat": 4,
  "vscode": {
   "interpreter": {
    "hash": "7e47f632006c667be673d13c799d80befbb300e1e2bc3eb75d3c14ae749ed0f3"
   }
  }
 },
 "nbformat": 4,
 "nbformat_minor": 2
}
